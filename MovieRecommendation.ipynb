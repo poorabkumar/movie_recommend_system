{
 "cells": [
  {
   "cell_type": "markdown",
   "id": "048ec57a-5116-4210-b942-88e70bed6a59",
   "metadata": {},
   "source": [
    "Title of the Project : Movie Recommendataion System"
   ]
  },
  {
   "cell_type": "markdown",
   "id": "b2680f50-19c9-4a93-b69c-9f4b129906f1",
   "metadata": {},
   "source": [
    "Objective : Recommender System is a system that seeks to predict or filter the preferences according to the user's choices. Recommender systems are utilised in a waythat they can recommend items or services that the user may like or find useful. These systems are widely used in e-commerce websites, streaming services, social media platforms, and more to enhance the user experience and increase customer satisfaction. By analyzing user behavior and feedback, recommender systems can provide personalized recommendations that are tailored to each individual user's tastes and preferences."
   ]
  },
  {
   "cell_type": "markdown",
   "id": "614153b9-0394-41f2-b656-d8a2f6750556",
   "metadata": {},
   "source": [
    "Collaborative filtering is a popular technique used in movie recommendation systems that analyzes user behaviors, preferences, and ratings to recommend movies based on similarities between users with similar tastes. There are two main types: user-based, which compares user preferences, and item-based, which focuses on similarities between movies. This method provides personalized recommendations that match the user's individual tastes and preferences"
   ]
  },
  {
   "cell_type": "markdown",
   "id": "97a3de6a-1343-489f-8352-8e53eacbb6b4",
   "metadata": {},
   "source": [
    "Content-based filtering is a recommendation system technique that suggests items to users based on the content of items they have interacted with in the past. It analyzes the features and attributes of items to make recommendations, without considering external factors such as ratings or reviews. This method is especially useful when there is limited data on user preferences or when users have niche interests."
   ]
  },
  {
   "cell_type": "markdown",
   "id": "87c15263-6e03-4ce2-a4dd-c873c278c355",
   "metadata": {},
   "source": [
    "Data Source"
   ]
  },
  {
   "cell_type": "raw",
   "id": "2be2f860-bfff-42fc-b009-16de39dd574c",
   "metadata": {},
   "source": [
    "https://github.com/ffatiimaa/movie_recommendation/raw/main/Movies%20Recommendation.csv"
   ]
  },
  {
   "cell_type": "markdown",
   "id": "e6e0d4ab-9378-4895-8154-34ebe0df7bc7",
   "metadata": {},
   "source": [
    "Import Library"
   ]
  },
  {
   "cell_type": "code",
   "execution_count": 128,
   "id": "d330ca6a-f0ef-4bf3-a4f2-d55d67f412ba",
   "metadata": {},
   "outputs": [],
   "source": [
    "import pandas as pd"
   ]
  },
  {
   "cell_type": "code",
   "execution_count": 129,
   "id": "73d7044a-b961-49e5-84ae-7d123bc3881b",
   "metadata": {},
   "outputs": [],
   "source": [
    "import numpy as np"
   ]
  },
  {
   "cell_type": "markdown",
   "id": "9b3f8235-65d7-44f8-a9ad-c0c709440638",
   "metadata": {},
   "source": [
    "Import Data"
   ]
  },
  {
   "cell_type": "code",
   "execution_count": 130,
   "id": "3de95b6c-ab59-4386-94a1-cf73aaf858d9",
   "metadata": {},
   "outputs": [],
   "source": [
    "df = pd.read_csv(\"D:\\coding\\ML\\YBI\\MachineLearning\\Movies Recommendation.csv\")"
   ]
  },
  {
   "cell_type": "markdown",
   "id": "4977def9-7c76-4530-9441-f767b99d01e9",
   "metadata": {},
   "source": [
    "Descrbe Data"
   ]
  },
  {
   "cell_type": "code",
   "execution_count": 131,
   "id": "67ad5db4-79ae-4689-b27a-176178a27bdb",
   "metadata": {
    "scrolled": true
   },
   "outputs": [
    {
     "data": {
      "text/html": [
       "<div>\n",
       "<style scoped>\n",
       "    .dataframe tbody tr th:only-of-type {\n",
       "        vertical-align: middle;\n",
       "    }\n",
       "\n",
       "    .dataframe tbody tr th {\n",
       "        vertical-align: top;\n",
       "    }\n",
       "\n",
       "    .dataframe thead th {\n",
       "        text-align: right;\n",
       "    }\n",
       "</style>\n",
       "<table border=\"1\" class=\"dataframe\">\n",
       "  <thead>\n",
       "    <tr style=\"text-align: right;\">\n",
       "      <th></th>\n",
       "      <th>Movie_ID</th>\n",
       "      <th>Movie_Title</th>\n",
       "      <th>Movie_Genre</th>\n",
       "      <th>Movie_Language</th>\n",
       "      <th>Movie_Budget</th>\n",
       "      <th>Movie_Popularity</th>\n",
       "      <th>Movie_Release_Date</th>\n",
       "      <th>Movie_Revenue</th>\n",
       "      <th>Movie_Runtime</th>\n",
       "      <th>Movie_Vote</th>\n",
       "      <th>...</th>\n",
       "      <th>Movie_Homepage</th>\n",
       "      <th>Movie_Keywords</th>\n",
       "      <th>Movie_Overview</th>\n",
       "      <th>Movie_Production_House</th>\n",
       "      <th>Movie_Production_Country</th>\n",
       "      <th>Movie_Spoken_Language</th>\n",
       "      <th>Movie_Tagline</th>\n",
       "      <th>Movie_Cast</th>\n",
       "      <th>Movie_Crew</th>\n",
       "      <th>Movie_Director</th>\n",
       "    </tr>\n",
       "  </thead>\n",
       "  <tbody>\n",
       "    <tr>\n",
       "      <th>0</th>\n",
       "      <td>1</td>\n",
       "      <td>Four Rooms</td>\n",
       "      <td>Crime Comedy</td>\n",
       "      <td>en</td>\n",
       "      <td>4000000</td>\n",
       "      <td>22.876230</td>\n",
       "      <td>09-12-1995</td>\n",
       "      <td>4300000</td>\n",
       "      <td>98.0</td>\n",
       "      <td>6.5</td>\n",
       "      <td>...</td>\n",
       "      <td>NaN</td>\n",
       "      <td>hotel new year's eve witch bet hotel room</td>\n",
       "      <td>It's Ted the Bellhop's first night on the job....</td>\n",
       "      <td>[{\"name\": \"Miramax Films\", \"id\": 14}, {\"name\":...</td>\n",
       "      <td>[{\"iso_3166_1\": \"US\", \"name\": \"United States o...</td>\n",
       "      <td>[{\"iso_639_1\": \"en\", \"name\": \"English\"}]</td>\n",
       "      <td>Twelve outrageous guests. Four scandalous requ...</td>\n",
       "      <td>Tim Roth Antonio Banderas Jennifer Beals Madon...</td>\n",
       "      <td>[{'name': 'Allison Anders', 'gender': 1, 'depa...</td>\n",
       "      <td>Allison Anders</td>\n",
       "    </tr>\n",
       "    <tr>\n",
       "      <th>1</th>\n",
       "      <td>2</td>\n",
       "      <td>Star Wars</td>\n",
       "      <td>Adventure Action Science Fiction</td>\n",
       "      <td>en</td>\n",
       "      <td>11000000</td>\n",
       "      <td>126.393695</td>\n",
       "      <td>25-05-1977</td>\n",
       "      <td>775398007</td>\n",
       "      <td>121.0</td>\n",
       "      <td>8.1</td>\n",
       "      <td>...</td>\n",
       "      <td>http://www.starwars.com/films/star-wars-episod...</td>\n",
       "      <td>android galaxy hermit death star lightsaber</td>\n",
       "      <td>Princess Leia is captured and held hostage by ...</td>\n",
       "      <td>[{\"name\": \"Lucasfilm\", \"id\": 1}, {\"name\": \"Twe...</td>\n",
       "      <td>[{\"iso_3166_1\": \"US\", \"name\": \"United States o...</td>\n",
       "      <td>[{\"iso_639_1\": \"en\", \"name\": \"English\"}]</td>\n",
       "      <td>A long time ago in a galaxy far, far away...</td>\n",
       "      <td>Mark Hamill Harrison Ford Carrie Fisher Peter ...</td>\n",
       "      <td>[{'name': 'George Lucas', 'gender': 2, 'depart...</td>\n",
       "      <td>George Lucas</td>\n",
       "    </tr>\n",
       "    <tr>\n",
       "      <th>2</th>\n",
       "      <td>3</td>\n",
       "      <td>Finding Nemo</td>\n",
       "      <td>Animation Family</td>\n",
       "      <td>en</td>\n",
       "      <td>94000000</td>\n",
       "      <td>85.688789</td>\n",
       "      <td>30-05-2003</td>\n",
       "      <td>940335536</td>\n",
       "      <td>100.0</td>\n",
       "      <td>7.6</td>\n",
       "      <td>...</td>\n",
       "      <td>http://movies.disney.com/finding-nemo</td>\n",
       "      <td>father son relationship harbor underwater fish...</td>\n",
       "      <td>Nemo, an adventurous young clownfish, is unexp...</td>\n",
       "      <td>[{\"name\": \"Pixar Animation Studios\", \"id\": 3}]</td>\n",
       "      <td>[{\"iso_3166_1\": \"US\", \"name\": \"United States o...</td>\n",
       "      <td>[{\"iso_639_1\": \"en\", \"name\": \"English\"}]</td>\n",
       "      <td>There are 3.7 trillion fish in the ocean, they...</td>\n",
       "      <td>Albert Brooks Ellen DeGeneres Alexander Gould ...</td>\n",
       "      <td>[{'name': 'Andrew Stanton', 'gender': 2, 'depa...</td>\n",
       "      <td>Andrew Stanton</td>\n",
       "    </tr>\n",
       "    <tr>\n",
       "      <th>3</th>\n",
       "      <td>4</td>\n",
       "      <td>Forrest Gump</td>\n",
       "      <td>Comedy Drama Romance</td>\n",
       "      <td>en</td>\n",
       "      <td>55000000</td>\n",
       "      <td>138.133331</td>\n",
       "      <td>06-07-1994</td>\n",
       "      <td>677945399</td>\n",
       "      <td>142.0</td>\n",
       "      <td>8.2</td>\n",
       "      <td>...</td>\n",
       "      <td>NaN</td>\n",
       "      <td>vietnam veteran hippie mentally disabled runni...</td>\n",
       "      <td>A man with a low IQ has accomplished great thi...</td>\n",
       "      <td>[{\"name\": \"Paramount Pictures\", \"id\": 4}]</td>\n",
       "      <td>[{\"iso_3166_1\": \"US\", \"name\": \"United States o...</td>\n",
       "      <td>[{\"iso_639_1\": \"en\", \"name\": \"English\"}]</td>\n",
       "      <td>The world will never be the same, once you've ...</td>\n",
       "      <td>Tom Hanks Robin Wright Gary Sinise Mykelti Wil...</td>\n",
       "      <td>[{'name': 'Alan Silvestri', 'gender': 2, 'depa...</td>\n",
       "      <td>Robert Zemeckis</td>\n",
       "    </tr>\n",
       "    <tr>\n",
       "      <th>4</th>\n",
       "      <td>5</td>\n",
       "      <td>American Beauty</td>\n",
       "      <td>Drama</td>\n",
       "      <td>en</td>\n",
       "      <td>15000000</td>\n",
       "      <td>80.878605</td>\n",
       "      <td>15-09-1999</td>\n",
       "      <td>356296601</td>\n",
       "      <td>122.0</td>\n",
       "      <td>7.9</td>\n",
       "      <td>...</td>\n",
       "      <td>http://www.dreamworks.com/ab/</td>\n",
       "      <td>male nudity female nudity adultery midlife cri...</td>\n",
       "      <td>Lester Burnham, a depressed suburban father in...</td>\n",
       "      <td>[{\"name\": \"DreamWorks SKG\", \"id\": 27}, {\"name\"...</td>\n",
       "      <td>[{\"iso_3166_1\": \"US\", \"name\": \"United States o...</td>\n",
       "      <td>[{\"iso_639_1\": \"en\", \"name\": \"English\"}]</td>\n",
       "      <td>Look closer.</td>\n",
       "      <td>Kevin Spacey Annette Bening Thora Birch Wes Be...</td>\n",
       "      <td>[{'name': 'Thomas Newman', 'gender': 2, 'depar...</td>\n",
       "      <td>Sam Mendes</td>\n",
       "    </tr>\n",
       "  </tbody>\n",
       "</table>\n",
       "<p>5 rows × 21 columns</p>\n",
       "</div>"
      ],
      "text/plain": [
       "   Movie_ID      Movie_Title                       Movie_Genre Movie_Language  \\\n",
       "0         1       Four Rooms                      Crime Comedy             en   \n",
       "1         2        Star Wars  Adventure Action Science Fiction             en   \n",
       "2         3     Finding Nemo                  Animation Family             en   \n",
       "3         4     Forrest Gump              Comedy Drama Romance             en   \n",
       "4         5  American Beauty                             Drama             en   \n",
       "\n",
       "   Movie_Budget  Movie_Popularity Movie_Release_Date  Movie_Revenue  \\\n",
       "0       4000000         22.876230         09-12-1995        4300000   \n",
       "1      11000000        126.393695         25-05-1977      775398007   \n",
       "2      94000000         85.688789         30-05-2003      940335536   \n",
       "3      55000000        138.133331         06-07-1994      677945399   \n",
       "4      15000000         80.878605         15-09-1999      356296601   \n",
       "\n",
       "   Movie_Runtime  Movie_Vote  ...  \\\n",
       "0           98.0         6.5  ...   \n",
       "1          121.0         8.1  ...   \n",
       "2          100.0         7.6  ...   \n",
       "3          142.0         8.2  ...   \n",
       "4          122.0         7.9  ...   \n",
       "\n",
       "                                      Movie_Homepage  \\\n",
       "0                                                NaN   \n",
       "1  http://www.starwars.com/films/star-wars-episod...   \n",
       "2              http://movies.disney.com/finding-nemo   \n",
       "3                                                NaN   \n",
       "4                      http://www.dreamworks.com/ab/   \n",
       "\n",
       "                                      Movie_Keywords  \\\n",
       "0          hotel new year's eve witch bet hotel room   \n",
       "1        android galaxy hermit death star lightsaber   \n",
       "2  father son relationship harbor underwater fish...   \n",
       "3  vietnam veteran hippie mentally disabled runni...   \n",
       "4  male nudity female nudity adultery midlife cri...   \n",
       "\n",
       "                                      Movie_Overview  \\\n",
       "0  It's Ted the Bellhop's first night on the job....   \n",
       "1  Princess Leia is captured and held hostage by ...   \n",
       "2  Nemo, an adventurous young clownfish, is unexp...   \n",
       "3  A man with a low IQ has accomplished great thi...   \n",
       "4  Lester Burnham, a depressed suburban father in...   \n",
       "\n",
       "                              Movie_Production_House  \\\n",
       "0  [{\"name\": \"Miramax Films\", \"id\": 14}, {\"name\":...   \n",
       "1  [{\"name\": \"Lucasfilm\", \"id\": 1}, {\"name\": \"Twe...   \n",
       "2     [{\"name\": \"Pixar Animation Studios\", \"id\": 3}]   \n",
       "3          [{\"name\": \"Paramount Pictures\", \"id\": 4}]   \n",
       "4  [{\"name\": \"DreamWorks SKG\", \"id\": 27}, {\"name\"...   \n",
       "\n",
       "                            Movie_Production_Country  \\\n",
       "0  [{\"iso_3166_1\": \"US\", \"name\": \"United States o...   \n",
       "1  [{\"iso_3166_1\": \"US\", \"name\": \"United States o...   \n",
       "2  [{\"iso_3166_1\": \"US\", \"name\": \"United States o...   \n",
       "3  [{\"iso_3166_1\": \"US\", \"name\": \"United States o...   \n",
       "4  [{\"iso_3166_1\": \"US\", \"name\": \"United States o...   \n",
       "\n",
       "                      Movie_Spoken_Language  \\\n",
       "0  [{\"iso_639_1\": \"en\", \"name\": \"English\"}]   \n",
       "1  [{\"iso_639_1\": \"en\", \"name\": \"English\"}]   \n",
       "2  [{\"iso_639_1\": \"en\", \"name\": \"English\"}]   \n",
       "3  [{\"iso_639_1\": \"en\", \"name\": \"English\"}]   \n",
       "4  [{\"iso_639_1\": \"en\", \"name\": \"English\"}]   \n",
       "\n",
       "                                       Movie_Tagline  \\\n",
       "0  Twelve outrageous guests. Four scandalous requ...   \n",
       "1       A long time ago in a galaxy far, far away...   \n",
       "2  There are 3.7 trillion fish in the ocean, they...   \n",
       "3  The world will never be the same, once you've ...   \n",
       "4                                       Look closer.   \n",
       "\n",
       "                                          Movie_Cast  \\\n",
       "0  Tim Roth Antonio Banderas Jennifer Beals Madon...   \n",
       "1  Mark Hamill Harrison Ford Carrie Fisher Peter ...   \n",
       "2  Albert Brooks Ellen DeGeneres Alexander Gould ...   \n",
       "3  Tom Hanks Robin Wright Gary Sinise Mykelti Wil...   \n",
       "4  Kevin Spacey Annette Bening Thora Birch Wes Be...   \n",
       "\n",
       "                                          Movie_Crew   Movie_Director  \n",
       "0  [{'name': 'Allison Anders', 'gender': 1, 'depa...   Allison Anders  \n",
       "1  [{'name': 'George Lucas', 'gender': 2, 'depart...     George Lucas  \n",
       "2  [{'name': 'Andrew Stanton', 'gender': 2, 'depa...   Andrew Stanton  \n",
       "3  [{'name': 'Alan Silvestri', 'gender': 2, 'depa...  Robert Zemeckis  \n",
       "4  [{'name': 'Thomas Newman', 'gender': 2, 'depar...       Sam Mendes  \n",
       "\n",
       "[5 rows x 21 columns]"
      ]
     },
     "execution_count": 131,
     "metadata": {},
     "output_type": "execute_result"
    }
   ],
   "source": [
    "df.head()"
   ]
  },
  {
   "cell_type": "code",
   "execution_count": 132,
   "id": "cc540e2a-eac7-4128-9590-65a52bc2075b",
   "metadata": {},
   "outputs": [
    {
     "data": {
      "text/plain": [
       "Index(['Movie_ID', 'Movie_Title', 'Movie_Genre', 'Movie_Language',\n",
       "       'Movie_Budget', 'Movie_Popularity', 'Movie_Release_Date',\n",
       "       'Movie_Revenue', 'Movie_Runtime', 'Movie_Vote', 'Movie_Vote_Count',\n",
       "       'Movie_Homepage', 'Movie_Keywords', 'Movie_Overview',\n",
       "       'Movie_Production_House', 'Movie_Production_Country',\n",
       "       'Movie_Spoken_Language', 'Movie_Tagline', 'Movie_Cast', 'Movie_Crew',\n",
       "       'Movie_Director'],\n",
       "      dtype='object')"
      ]
     },
     "execution_count": 132,
     "metadata": {},
     "output_type": "execute_result"
    }
   ],
   "source": [
    "df.columns"
   ]
  },
  {
   "cell_type": "code",
   "execution_count": 133,
   "id": "26446041-4cc7-4aaf-866e-0fdf933ff30b",
   "metadata": {},
   "outputs": [
    {
     "name": "stdout",
     "output_type": "stream",
     "text": [
      "<class 'pandas.core.frame.DataFrame'>\n",
      "RangeIndex: 4760 entries, 0 to 4759\n",
      "Data columns (total 21 columns):\n",
      " #   Column                    Non-Null Count  Dtype  \n",
      "---  ------                    --------------  -----  \n",
      " 0   Movie_ID                  4760 non-null   int64  \n",
      " 1   Movie_Title               4760 non-null   object \n",
      " 2   Movie_Genre               4760 non-null   object \n",
      " 3   Movie_Language            4760 non-null   object \n",
      " 4   Movie_Budget              4760 non-null   int64  \n",
      " 5   Movie_Popularity          4760 non-null   float64\n",
      " 6   Movie_Release_Date        4760 non-null   object \n",
      " 7   Movie_Revenue             4760 non-null   int64  \n",
      " 8   Movie_Runtime             4758 non-null   float64\n",
      " 9   Movie_Vote                4760 non-null   float64\n",
      " 10  Movie_Vote_Count          4760 non-null   int64  \n",
      " 11  Movie_Homepage            1699 non-null   object \n",
      " 12  Movie_Keywords            4373 non-null   object \n",
      " 13  Movie_Overview            4757 non-null   object \n",
      " 14  Movie_Production_House    4760 non-null   object \n",
      " 15  Movie_Production_Country  4760 non-null   object \n",
      " 16  Movie_Spoken_Language     4760 non-null   object \n",
      " 17  Movie_Tagline             3942 non-null   object \n",
      " 18  Movie_Cast                4733 non-null   object \n",
      " 19  Movie_Crew                4760 non-null   object \n",
      " 20  Movie_Director            4738 non-null   object \n",
      "dtypes: float64(3), int64(4), object(14)\n",
      "memory usage: 781.1+ KB\n"
     ]
    }
   ],
   "source": [
    "df.info()"
   ]
  },
  {
   "cell_type": "code",
   "execution_count": 103,
   "id": "acc956a7-7fc7-426e-947e-f55ea720f9e0",
   "metadata": {},
   "outputs": [
    {
     "data": {
      "text/html": [
       "<div>\n",
       "<style scoped>\n",
       "    .dataframe tbody tr th:only-of-type {\n",
       "        vertical-align: middle;\n",
       "    }\n",
       "\n",
       "    .dataframe tbody tr th {\n",
       "        vertical-align: top;\n",
       "    }\n",
       "\n",
       "    .dataframe thead th {\n",
       "        text-align: right;\n",
       "    }\n",
       "</style>\n",
       "<table border=\"1\" class=\"dataframe\">\n",
       "  <thead>\n",
       "    <tr style=\"text-align: right;\">\n",
       "      <th></th>\n",
       "      <th>Movie_ID</th>\n",
       "      <th>Movie_Budget</th>\n",
       "      <th>Movie_Popularity</th>\n",
       "      <th>Movie_Revenue</th>\n",
       "      <th>Movie_Runtime</th>\n",
       "      <th>Movie_Vote</th>\n",
       "      <th>Movie_Vote_Count</th>\n",
       "    </tr>\n",
       "  </thead>\n",
       "  <tbody>\n",
       "    <tr>\n",
       "      <th>count</th>\n",
       "      <td>4760.000000</td>\n",
       "      <td>4.760000e+03</td>\n",
       "      <td>4760.000000</td>\n",
       "      <td>4.760000e+03</td>\n",
       "      <td>4758.000000</td>\n",
       "      <td>4760.000000</td>\n",
       "      <td>4760.000000</td>\n",
       "    </tr>\n",
       "    <tr>\n",
       "      <th>mean</th>\n",
       "      <td>2382.566387</td>\n",
       "      <td>2.920129e+07</td>\n",
       "      <td>21.599510</td>\n",
       "      <td>8.263743e+07</td>\n",
       "      <td>107.184111</td>\n",
       "      <td>6.113866</td>\n",
       "      <td>692.508403</td>\n",
       "    </tr>\n",
       "    <tr>\n",
       "      <th>std</th>\n",
       "      <td>1377.270159</td>\n",
       "      <td>4.075620e+07</td>\n",
       "      <td>31.887919</td>\n",
       "      <td>1.630554e+08</td>\n",
       "      <td>21.960332</td>\n",
       "      <td>1.141294</td>\n",
       "      <td>1235.007337</td>\n",
       "    </tr>\n",
       "    <tr>\n",
       "      <th>min</th>\n",
       "      <td>1.000000</td>\n",
       "      <td>0.000000e+00</td>\n",
       "      <td>0.000372</td>\n",
       "      <td>0.000000e+00</td>\n",
       "      <td>0.000000</td>\n",
       "      <td>0.000000</td>\n",
       "      <td>0.000000</td>\n",
       "    </tr>\n",
       "    <tr>\n",
       "      <th>25%</th>\n",
       "      <td>1190.750000</td>\n",
       "      <td>9.257500e+05</td>\n",
       "      <td>4.807074</td>\n",
       "      <td>0.000000e+00</td>\n",
       "      <td>94.000000</td>\n",
       "      <td>5.600000</td>\n",
       "      <td>55.000000</td>\n",
       "    </tr>\n",
       "    <tr>\n",
       "      <th>50%</th>\n",
       "      <td>2380.500000</td>\n",
       "      <td>1.500000e+07</td>\n",
       "      <td>13.119058</td>\n",
       "      <td>1.944716e+07</td>\n",
       "      <td>104.000000</td>\n",
       "      <td>6.200000</td>\n",
       "      <td>238.000000</td>\n",
       "    </tr>\n",
       "    <tr>\n",
       "      <th>75%</th>\n",
       "      <td>3572.250000</td>\n",
       "      <td>4.000000e+07</td>\n",
       "      <td>28.411929</td>\n",
       "      <td>9.341276e+07</td>\n",
       "      <td>118.000000</td>\n",
       "      <td>6.800000</td>\n",
       "      <td>740.250000</td>\n",
       "    </tr>\n",
       "    <tr>\n",
       "      <th>max</th>\n",
       "      <td>4788.000000</td>\n",
       "      <td>3.800000e+08</td>\n",
       "      <td>875.581305</td>\n",
       "      <td>2.787965e+09</td>\n",
       "      <td>338.000000</td>\n",
       "      <td>10.000000</td>\n",
       "      <td>13752.000000</td>\n",
       "    </tr>\n",
       "  </tbody>\n",
       "</table>\n",
       "</div>"
      ],
      "text/plain": [
       "          Movie_ID  Movie_Budget  Movie_Popularity  Movie_Revenue  \\\n",
       "count  4760.000000  4.760000e+03       4760.000000   4.760000e+03   \n",
       "mean   2382.566387  2.920129e+07         21.599510   8.263743e+07   \n",
       "std    1377.270159  4.075620e+07         31.887919   1.630554e+08   \n",
       "min       1.000000  0.000000e+00          0.000372   0.000000e+00   \n",
       "25%    1190.750000  9.257500e+05          4.807074   0.000000e+00   \n",
       "50%    2380.500000  1.500000e+07         13.119058   1.944716e+07   \n",
       "75%    3572.250000  4.000000e+07         28.411929   9.341276e+07   \n",
       "max    4788.000000  3.800000e+08        875.581305   2.787965e+09   \n",
       "\n",
       "       Movie_Runtime   Movie_Vote  Movie_Vote_Count  \n",
       "count    4758.000000  4760.000000       4760.000000  \n",
       "mean      107.184111     6.113866        692.508403  \n",
       "std        21.960332     1.141294       1235.007337  \n",
       "min         0.000000     0.000000          0.000000  \n",
       "25%        94.000000     5.600000         55.000000  \n",
       "50%       104.000000     6.200000        238.000000  \n",
       "75%       118.000000     6.800000        740.250000  \n",
       "max       338.000000    10.000000      13752.000000  "
      ]
     },
     "execution_count": 103,
     "metadata": {},
     "output_type": "execute_result"
    }
   ],
   "source": [
    "df.describe()"
   ]
  },
  {
   "cell_type": "markdown",
   "id": "c5d2fa1a-6b49-42d7-858f-673bc24aa642",
   "metadata": {},
   "source": [
    "Data Preprocessing"
   ]
  },
  {
   "cell_type": "code",
   "execution_count": 134,
   "id": "21138a2c-89b6-493f-9189-542be9646d31",
   "metadata": {},
   "outputs": [],
   "source": [
    "features = df[['Movie_Genre','Movie_Keywords','Movie_Tagline','Movie_Cast','Movie_Director']].fillna('')"
   ]
  },
  {
   "cell_type": "code",
   "execution_count": 135,
   "id": "d73db63e-2e36-45ca-96aa-c4730df3eb3c",
   "metadata": {},
   "outputs": [
    {
     "data": {
      "text/plain": [
       "(4760, 5)"
      ]
     },
     "execution_count": 135,
     "metadata": {},
     "output_type": "execute_result"
    }
   ],
   "source": [
    "features.shape"
   ]
  },
  {
   "cell_type": "markdown",
   "id": "185a97f0-4174-4fc9-9279-d7b56abe7de0",
   "metadata": {},
   "source": [
    "Feature variable"
   ]
  },
  {
   "cell_type": "code",
   "execution_count": 136,
   "id": "b4d9c57c-60dc-4b2d-93f3-5d13fb2e1c2c",
   "metadata": {},
   "outputs": [],
   "source": [
    "x = features['Movie_Genre']+' '+features['Movie_Keywords']+' '+features['Movie_Tagline']+' '+features['Movie_Cast']+' '+features['Movie_Director']"
   ]
  },
  {
   "cell_type": "code",
   "execution_count": 137,
   "id": "4f72a7b8-01d3-4116-bea8-0cb30ed37e81",
   "metadata": {},
   "outputs": [
    {
     "data": {
      "text/plain": [
       "0       Crime Comedy hotel new year's eve witch bet ho...\n",
       "1       Adventure Action Science Fiction android galax...\n",
       "2       Animation Family father son relationship harbo...\n",
       "3       Comedy Drama Romance vietnam veteran hippie me...\n",
       "4       Drama male nudity female nudity adultery midli...\n",
       "                              ...                        \n",
       "4755    Horror  The hot spot where Satan's waitin'. Li...\n",
       "4756    Comedy Family Drama  It’s better to stand out ...\n",
       "4757    Thriller Drama christian film sex trafficking ...\n",
       "4758                                           Family    \n",
       "4759    Documentary music actors legendary perfomer cl...\n",
       "Length: 4760, dtype: object"
      ]
     },
     "execution_count": 137,
     "metadata": {},
     "output_type": "execute_result"
    }
   ],
   "source": [
    "x"
   ]
  },
  {
   "cell_type": "markdown",
   "id": "a6f59871-a948-4143-aa58-709d7bd8cf29",
   "metadata": {},
   "source": [
    "Modeling"
   ]
  },
  {
   "cell_type": "raw",
   "id": "661f69c7-0131-4a80-bac9-84534ed1a5b7",
   "metadata": {},
   "source": [
    "#Converting text to tokens"
   ]
  },
  {
   "cell_type": "code",
   "execution_count": 138,
   "id": "0507c1ac-1828-43cf-9353-5e48dbbf9eb7",
   "metadata": {},
   "outputs": [],
   "source": [
    "from sklearn.feature_extraction.text import TfidfVectorizer"
   ]
  },
  {
   "cell_type": "code",
   "execution_count": 139,
   "id": "dbd41dd9-571c-4236-9010-67c71adf2f4d",
   "metadata": {},
   "outputs": [],
   "source": [
    "tfidf = TfidfVectorizer()"
   ]
  },
  {
   "cell_type": "code",
   "execution_count": 140,
   "id": "1a9d1d1d-662d-4532-ac10-149a6afe5473",
   "metadata": {},
   "outputs": [],
   "source": [
    "x = tfidf.fit_transform(x)"
   ]
  },
  {
   "cell_type": "code",
   "execution_count": 141,
   "id": "6b933495-5824-4021-8bb7-a7bd8b88411b",
   "metadata": {},
   "outputs": [
    {
     "data": {
      "text/plain": [
       "(4760, 17258)"
      ]
     },
     "execution_count": 141,
     "metadata": {},
     "output_type": "execute_result"
    }
   ],
   "source": [
    "x.shape"
   ]
  },
  {
   "cell_type": "code",
   "execution_count": 142,
   "id": "a0d36d43-d519-4ffd-88b2-46e6e95cf210",
   "metadata": {
    "scrolled": true
   },
   "outputs": [
    {
     "name": "stdout",
     "output_type": "stream",
     "text": [
      "  (0, 3583)\t0.06486754376295062\n",
      "  (0, 3240)\t0.04527089872278055\n",
      "  (0, 7213)\t0.25146675849405775\n",
      "  (0, 10898)\t0.17625708810661284\n",
      "  (0, 17052)\t0.26079573581490934\n",
      "  (0, 5059)\t0.29553419178998613\n",
      "  (0, 16862)\t0.12768803549311025\n",
      "  (0, 1595)\t0.15687561633854538\n",
      "  (0, 13052)\t0.1465525095337543\n",
      "  (0, 15708)\t0.17654247479915475\n",
      "  (0, 11362)\t0.18801785343006192\n",
      "  (0, 6463)\t0.18801785343006192\n",
      "  (0, 5662)\t0.1465525095337543\n",
      "  (0, 13467)\t0.19712637387361423\n",
      "  (0, 12731)\t0.19712637387361423\n",
      "  (0, 614)\t0.07642616241686973\n",
      "  (0, 11244)\t0.08262965296941757\n",
      "  (0, 9206)\t0.15186283580984414\n",
      "  (0, 1495)\t0.19712637387361423\n",
      "  (0, 7454)\t0.14745635785412262\n",
      "  (0, 7071)\t0.19822417598406614\n",
      "  (0, 5499)\t0.11454057510303811\n",
      "  (0, 3878)\t0.11998399582562203\n",
      "  (0, 11242)\t0.07277788238484746\n",
      "  (0, 15219)\t0.09800472886453934\n",
      "  :\t:\n",
      "  (4757, 3485)\t0.199161573117024\n",
      "  (4757, 1184)\t0.18890726729447022\n",
      "  (4757, 14568)\t0.24255077606762876\n",
      "  (4757, 15508)\t0.24255077606762876\n",
      "  (4757, 5802)\t0.24255077606762876\n",
      "  (4757, 819)\t0.27474840155297187\n",
      "  (4757, 14195)\t0.28805858134028367\n",
      "  (4757, 2227)\t0.28805858134028367\n",
      "  (4757, 7691)\t0.28805858134028367\n",
      "  (4757, 1932)\t0.28805858134028367\n",
      "  (4758, 5238)\t1.0\n",
      "  (4759, 10666)\t0.15888268987343043\n",
      "  (4759, 1490)\t0.21197258705292082\n",
      "  (4759, 15431)\t0.19628653185946862\n",
      "  (4759, 5690)\t0.19534291014627303\n",
      "  (4759, 14051)\t0.20084315377640435\n",
      "  (4759, 4358)\t0.18306542312175342\n",
      "  (4759, 10761)\t0.3126617295732147\n",
      "  (4759, 7130)\t0.26419662449963793\n",
      "  (4759, 3058)\t0.2812896191863103\n",
      "  (4759, 14062)\t0.3237911628497312\n",
      "  (4759, 8902)\t0.3040290704566037\n",
      "  (4759, 205)\t0.3237911628497312\n",
      "  (4759, 11708)\t0.33947721804318337\n",
      "  (4759, 11264)\t0.33947721804318337\n"
     ]
    }
   ],
   "source": [
    "print(x)"
   ]
  },
  {
   "cell_type": "markdown",
   "id": "6db30579-5b97-45a6-bdb2-8c66eeeddff3",
   "metadata": {},
   "source": [
    "Getting similarity score using cosine similarity"
   ]
  },
  {
   "cell_type": "markdown",
   "id": "0d491973-d799-4608-a205-8caef3d3e85f",
   "metadata": {},
   "source": [
    "cosine_similarity computes the L2-normalized dot product of vectors. Euclidean (L2) normalization projects the vectors onto the unit sphere, and their dot product is then the cosine of the angle betweem the points denoted by vectors"
   ]
  },
  {
   "cell_type": "code",
   "execution_count": 143,
   "id": "c9d244ac-5d60-4a21-b99e-93fa8b3755ee",
   "metadata": {},
   "outputs": [],
   "source": [
    "from sklearn.metrics.pairwise import cosine_similarity"
   ]
  },
  {
   "cell_type": "code",
   "execution_count": 144,
   "id": "6888071d-9ef8-4e91-83f9-a4cd77d40bc4",
   "metadata": {},
   "outputs": [],
   "source": [
    "Similarity_score = cosine_similarity(x)"
   ]
  },
  {
   "cell_type": "code",
   "execution_count": 145,
   "id": "881a6da6-67d6-49b2-a63c-c5d767239174",
   "metadata": {},
   "outputs": [
    {
     "data": {
      "text/plain": [
       "array([[1.        , 0.01351235, 0.03570468, ..., 0.        , 0.        ,\n",
       "        0.        ],\n",
       "       [0.01351235, 1.        , 0.00806674, ..., 0.        , 0.        ,\n",
       "        0.        ],\n",
       "       [0.03570468, 0.00806674, 1.        , ..., 0.        , 0.08014876,\n",
       "        0.        ],\n",
       "       ...,\n",
       "       [0.        , 0.        , 0.        , ..., 1.        , 0.        ,\n",
       "        0.        ],\n",
       "       [0.        , 0.        , 0.08014876, ..., 0.        , 1.        ,\n",
       "        0.        ],\n",
       "       [0.        , 0.        , 0.        , ..., 0.        , 0.        ,\n",
       "        1.        ]])"
      ]
     },
     "execution_count": 145,
     "metadata": {},
     "output_type": "execute_result"
    }
   ],
   "source": [
    "Similarity_score"
   ]
  },
  {
   "cell_type": "markdown",
   "id": "2f5a548d-f6b3-41a6-90ad-5fbb87dc35b7",
   "metadata": {},
   "source": [
    "Model Evaluation"
   ]
  },
  {
   "cell_type": "code",
   "execution_count": 146,
   "id": "9f2083fa-39ae-404f-aa7c-9c66c0e93f34",
   "metadata": {},
   "outputs": [
    {
     "name": "stdin",
     "output_type": "stream",
     "text": [
      "Enter your favorite movie name :  Batman\n"
     ]
    }
   ],
   "source": [
    "#Taking the fav movie name of user as input\n",
    "fav_movie_name = input(\"Enter your favorite movie name : \")"
   ]
  },
  {
   "cell_type": "code",
   "execution_count": 147,
   "id": "93574f3b-7214-4721-9eef-8d8417fcfd56",
   "metadata": {},
   "outputs": [],
   "source": [
    "All_movies = df['Movie_Title'].tolist()"
   ]
  },
  {
   "cell_type": "code",
   "execution_count": 148,
   "id": "eb1b647c-13bc-4383-9722-97fb55a5aa80",
   "metadata": {},
   "outputs": [],
   "source": [
    "import difflib"
   ]
  },
  {
   "cell_type": "code",
   "execution_count": 149,
   "id": "6f45612c-1a4b-4e74-88e6-f3dae0fb2925",
   "metadata": {},
   "outputs": [
    {
     "name": "stdout",
     "output_type": "stream",
     "text": [
      "['Batman', 'Batman', 'Catwoman']\n"
     ]
    }
   ],
   "source": [
    "Movie_Recommendation = difflib.get_close_matches(fav_movie_name,All_movies)\n",
    "print(Movie_Recommendation)"
   ]
  },
  {
   "cell_type": "markdown",
   "id": "fb03f7c9-88be-4d1e-91cd-3e4cc5cb6a40",
   "metadata": {},
   "source": [
    "Prediction"
   ]
  },
  {
   "cell_type": "code",
   "execution_count": 150,
   "id": "7beef1e4-3264-4003-82e4-1c1f12bc1152",
   "metadata": {},
   "outputs": [
    {
     "name": "stdout",
     "output_type": "stream",
     "text": [
      "Batman\n"
     ]
    }
   ],
   "source": [
    "#getting close match\n",
    "Close_match = Movie_Recommendation[0]\n",
    "print(Close_match)"
   ]
  },
  {
   "cell_type": "markdown",
   "id": "06f57d6c-3e3d-4cca-887c-2bf7282acc47",
   "metadata": {},
   "source": [
    "Getting index of close movie match"
   ]
  },
  {
   "cell_type": "code",
   "execution_count": 151,
   "id": "ba2d0620-b18f-4609-98c0-232fdb96113c",
   "metadata": {},
   "outputs": [
    {
     "name": "stdout",
     "output_type": "stream",
     "text": [
      "123\n"
     ]
    }
   ],
   "source": [
    "index = df[df.Movie_Title == Close_match]['Movie_ID'].values[0]\n",
    "print(index)"
   ]
  },
  {
   "cell_type": "code",
   "execution_count": 152,
   "id": "5327861f-d509-4cbf-a936-a2afb8c8a17d",
   "metadata": {
    "scrolled": true
   },
   "outputs": [],
   "source": [
    "#getting list of similar movies\n",
    "Recommendation_Score = list(enumerate(Similarity_score[index]))"
   ]
  },
  {
   "cell_type": "code",
   "execution_count": 153,
   "id": "de7b9409-173d-4ac6-a3e1-b682c93afc42",
   "metadata": {},
   "outputs": [
    {
     "data": {
      "text/plain": [
       "4760"
      ]
     },
     "execution_count": 153,
     "metadata": {},
     "output_type": "execute_result"
    }
   ],
   "source": [
    "len(Recommendation_Score)"
   ]
  },
  {
   "cell_type": "markdown",
   "id": "0e262484-e53c-4640-8614-9c763284d444",
   "metadata": {},
   "source": [
    "Getting all movies sorted based on Recommendations score"
   ]
  },
  {
   "cell_type": "code",
   "execution_count": 154,
   "id": "fa717047-a5e1-4fde-b299-9ee69daf3ad2",
   "metadata": {
    "scrolled": true
   },
   "outputs": [],
   "source": [
    "similar_movies = sorted(Recommendation_Score,key = lambda x:x[1], reverse = True)"
   ]
  },
  {
   "cell_type": "code",
   "execution_count": 155,
   "id": "640be958-07be-4ac0-984d-f29a3f6c8187",
   "metadata": {},
   "outputs": [],
   "source": [
    "#pirnting the name of movies based on index"
   ]
  },
  {
   "cell_type": "code",
   "execution_count": 156,
   "id": "8f64295c-3724-4117-85c0-21b093a1eed8",
   "metadata": {},
   "outputs": [
    {
     "name": "stdout",
     "output_type": "stream",
     "text": [
      "Top 20 movie Suggestions : \n",
      "1. Batman Begins\n",
      "2. The Dark Knight Rises\n",
      "3. The Dark Knight\n",
      "4. The Prestige\n",
      "5. Batman Returns\n",
      "6. Batman & Robin\n",
      "7. Batman\n",
      "8. Superman\n",
      "9. Kick-Ass 2\n",
      "10. Kick-Ass\n",
      "11. Quest for Camelot\n",
      "12. Kung Fu Panda 2\n",
      "13. TMNT\n",
      "14. GoldenEye\n",
      "15. Watchmen\n",
      "16. Suicide Squad\n",
      "17. Mad Money\n",
      "18. Interstellar\n",
      "19. Harry Brown\n",
      "20. Superman II\n"
     ]
    }
   ],
   "source": [
    "print(\"Top 20 movie Suggestions : \")\n",
    "i = 1\n",
    "for movie in similar_movies:\n",
    "    ind = movie[0]\n",
    "    title = df.iloc[ind]['Movie_Title']\n",
    "    if i <= 20:\n",
    "        print(f\"{i}. {title}\")\n",
    "        i += 1"
   ]
  },
  {
   "cell_type": "markdown",
   "id": "1c7bf282-9bd0-486d-86c9-53054921785d",
   "metadata": {},
   "source": [
    "Explanation"
   ]
  },
  {
   "cell_type": "markdown",
   "id": "de9e3401-bcce-4c7e-b27e-3eaae1f93997",
   "metadata": {},
   "source": [
    "A movie recommendation system using cosine similarity model works by calculating the similarity between different movies based on their features or attributes. The system uses a mathematical technique called cosine similarity to measure how closely related two movies are to each other.\n",
    "\n",
    "Here's how it works:\n",
    "\n",
    "The system first represents movies as vectors in a multidimensional space, where each dimension corresponds to a specific feature or attribute of the movie (e.g., genre, actors, director, etc.).\n",
    "\n",
    "The system then calculates the cosine similarity between each pair of movies by measuring the cosine of the angle between the two movie vectors. A higher cosine similarity score indicates that the two movies are more similar to each other.\n",
    "\n",
    "Based on the cosine similarity scores, the system can recommend movies that are most similar to a given movie. For example, if a user likes a particular movie, the system can recommend other movies that have a high cosine similarity score with that movie.\n",
    "\n",
    "The system can also recommend movies based on user preferences and viewing history. By analyzing the similarities between the movies that a user has watched and liked, the system can suggest other movies that are likely to be of interest to the user.\n",
    "\n",
    "Overall, a movie recommendation system using cosine similarity model allows users to discover new movies that are similar to the ones they enjoy, making it easier to find and watch movies that align with their tastes and preferences"
   ]
  },
  {
   "cell_type": "code",
   "execution_count": 96,
   "id": "ecffcf00-0869-4fce-ba3a-a32fd699c832",
   "metadata": {},
   "outputs": [
    {
     "name": "stdin",
     "output_type": "stream",
     "text": [
      "Enter you favourite movie name :  Spider Man\n"
     ]
    },
    {
     "name": "stdout",
     "output_type": "stream",
     "text": [
      "Top 20 movies suggestions : \n",
      "1. Spider-Man 2\n",
      "2. Spider-Man 3\n",
      "3. Spider-Man\n",
      "4. 30 Minutes or Less\n",
      "5. The One\n",
      "6. The Amazing Spider-Man 2\n",
      "7. Oz: The Great and Powerful\n",
      "8. Brothers\n",
      "9. Dudley Do-Right\n",
      "10. Avengers: Age of Ultron\n",
      "11. Deadpool\n",
      "12. The Good German\n",
      "13. Abduction\n",
      "14. Sexy Beast\n",
      "15. The Hoax\n",
      "16. Thor\n",
      "17. Midnight Special\n",
      "18. Frida\n",
      "19. X-Men: Days of Future Past\n",
      "20. Crazy/Beautiful\n"
     ]
    }
   ],
   "source": [
    "# final recommendation system \n",
    "Movie_Name = input(\"Enter you favourite movie name : \")\n",
    "All_Movies = df['Movie_Title'].tolist()\n",
    "Close_Match = difflib.get_close_matches(Movie_Name,All_Movies)[0]\n",
    "index = df[df.Movie_Title == Close_Match]['Movie_ID'].values[0]\n",
    "Recommendation_Score = list(enumerate(Similarity_score[index]))\n",
    "Similar_Movies = sorted(Recommendation_Score,key = lambda x:x[1],reverse = True)\n",
    "print(\"Top 20 movies suggestions : \")\n",
    "i=1\n",
    "for movie in Similar_Movies:\n",
    "    ind = movie[0]\n",
    "    title = df.iloc[ind]['Movie_Title']\n",
    "    if i <= 20:\n",
    "        print(f\"{i}. {title}\")\n",
    "        i += 1"
   ]
  },
  {
   "cell_type": "code",
   "execution_count": null,
   "id": "4c8daaaf-910b-4ee9-b1f3-24a3499e8393",
   "metadata": {},
   "outputs": [],
   "source": []
  }
 ],
 "metadata": {
  "kernelspec": {
   "display_name": "Python 3 (ipykernel)",
   "language": "python",
   "name": "python3"
  },
  "language_info": {
   "codemirror_mode": {
    "name": "ipython",
    "version": 3
   },
   "file_extension": ".py",
   "mimetype": "text/x-python",
   "name": "python",
   "nbconvert_exporter": "python",
   "pygments_lexer": "ipython3",
   "version": "3.11.0"
  }
 },
 "nbformat": 4,
 "nbformat_minor": 5
}
